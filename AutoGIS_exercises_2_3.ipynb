{
 "cells": [
  {
   "cell_type": "code",
   "execution_count": 20,
   "metadata": {},
   "outputs": [
    {
     "data": {
      "text/html": [
       "<div>\n",
       "<style scoped>\n",
       "    .dataframe tbody tr th:only-of-type {\n",
       "        vertical-align: middle;\n",
       "    }\n",
       "\n",
       "    .dataframe tbody tr th {\n",
       "        vertical-align: top;\n",
       "    }\n",
       "\n",
       "    .dataframe thead th {\n",
       "        text-align: right;\n",
       "    }\n",
       "</style>\n",
       "<table border=\"1\" class=\"dataframe\">\n",
       "  <thead>\n",
       "    <tr style=\"text-align: right;\">\n",
       "      <th></th>\n",
       "      <th>lat</th>\n",
       "      <th>lon</th>\n",
       "      <th>timestamp</th>\n",
       "      <th>userid</th>\n",
       "    </tr>\n",
       "  </thead>\n",
       "  <tbody>\n",
       "    <tr>\n",
       "      <th>0</th>\n",
       "      <td>-24.980792</td>\n",
       "      <td>31.484633</td>\n",
       "      <td>2015-07-07 03:02</td>\n",
       "      <td>66487960</td>\n",
       "    </tr>\n",
       "    <tr>\n",
       "      <th>1</th>\n",
       "      <td>-25.499225</td>\n",
       "      <td>31.508906</td>\n",
       "      <td>2015-07-07 03:18</td>\n",
       "      <td>65281761</td>\n",
       "    </tr>\n",
       "    <tr>\n",
       "      <th>2</th>\n",
       "      <td>-24.342578</td>\n",
       "      <td>30.930866</td>\n",
       "      <td>2015-03-07 03:38</td>\n",
       "      <td>90916112</td>\n",
       "    </tr>\n",
       "    <tr>\n",
       "      <th>3</th>\n",
       "      <td>-24.854614</td>\n",
       "      <td>31.519718</td>\n",
       "      <td>2015-10-07 05:04</td>\n",
       "      <td>37959089</td>\n",
       "    </tr>\n",
       "    <tr>\n",
       "      <th>4</th>\n",
       "      <td>-24.921069</td>\n",
       "      <td>31.520836</td>\n",
       "      <td>2015-10-07 05:19</td>\n",
       "      <td>27793716</td>\n",
       "    </tr>\n",
       "  </tbody>\n",
       "</table>\n",
       "</div>"
      ],
      "text/plain": [
       "         lat        lon         timestamp    userid\n",
       "0 -24.980792  31.484633  2015-07-07 03:02  66487960\n",
       "1 -25.499225  31.508906  2015-07-07 03:18  65281761\n",
       "2 -24.342578  30.930866  2015-03-07 03:38  90916112\n",
       "3 -24.854614  31.519718  2015-10-07 05:04  37959089\n",
       "4 -24.921069  31.520836  2015-10-07 05:19  27793716"
      ]
     },
     "execution_count": 20,
     "metadata": {},
     "output_type": "execute_result"
    }
   ],
   "source": [
    "import geopandas as gpd\n",
    "import pandas as pd\n",
    "from shapely.geometry import Polygon, Point\n",
    "\n",
    "data = pd.read_csv(r'some_posts.txt')\n",
    "data.head()"
   ]
  },
  {
   "cell_type": "code",
   "execution_count": 7,
   "metadata": {},
   "outputs": [],
   "source": [
    "x = '''\n",
    "Download the data (Click on the link ==> CNTRL + S)\n",
    "Read the data into memory using Pandas\n",
    "Create an empty column called geometry where you will store shapely Point objects\n",
    "Iterate over the rows of the DataFrame and insert Point objects into column geometry (you need to use .loc indexer to update the row, see materials\n",
    "Convert that DataFrame into a GeoDataFrame, see hints\n",
    "Update the CRS for coordinate system as WGS84 (i.e. epsg code: 4326)\n",
    "Save the data into a Shapefile called Kruger_posts.shp\n",
    "Create a simple map of those points using a GIS software or using .plot() -funtion in Python. Save it to GitHub as png file.\n",
    "'''"
   ]
  },
  {
   "cell_type": "code",
   "execution_count": 29,
   "metadata": {},
   "outputs": [],
   "source": [
    "# create an empty column for points\n",
    "data['geometry'] = 0"
   ]
  },
  {
   "cell_type": "code",
   "execution_count": 36,
   "metadata": {},
   "outputs": [],
   "source": [
    "# iterate over rows to convert lat and lon to Point objects\n",
    "coords = []\n",
    "for i in range(len(data)):\n",
    "    x = data['lat'][i]\n",
    "    y = data['lon'][i]\n",
    "    point = Point((x,y))\n",
    "    data.loc[i,'geometry'] = point"
   ]
  },
  {
   "cell_type": "code",
   "execution_count": 41,
   "metadata": {},
   "outputs": [
    {
     "data": {
      "text/html": [
       "<div>\n",
       "<style scoped>\n",
       "    .dataframe tbody tr th:only-of-type {\n",
       "        vertical-align: middle;\n",
       "    }\n",
       "\n",
       "    .dataframe tbody tr th {\n",
       "        vertical-align: top;\n",
       "    }\n",
       "\n",
       "    .dataframe thead th {\n",
       "        text-align: right;\n",
       "    }\n",
       "</style>\n",
       "<table border=\"1\" class=\"dataframe\">\n",
       "  <thead>\n",
       "    <tr style=\"text-align: right;\">\n",
       "      <th></th>\n",
       "      <th>lat</th>\n",
       "      <th>lon</th>\n",
       "      <th>timestamp</th>\n",
       "      <th>userid</th>\n",
       "      <th>geometry</th>\n",
       "    </tr>\n",
       "  </thead>\n",
       "  <tbody>\n",
       "    <tr>\n",
       "      <th>0</th>\n",
       "      <td>-24.980792</td>\n",
       "      <td>31.484633</td>\n",
       "      <td>2015-07-07 03:02</td>\n",
       "      <td>66487960</td>\n",
       "      <td>POINT (-24.980792492 31.484633302)</td>\n",
       "    </tr>\n",
       "    <tr>\n",
       "      <th>1</th>\n",
       "      <td>-25.499225</td>\n",
       "      <td>31.508906</td>\n",
       "      <td>2015-07-07 03:18</td>\n",
       "      <td>65281761</td>\n",
       "      <td>POINT (-25.499224667 31.508905612)</td>\n",
       "    </tr>\n",
       "    <tr>\n",
       "      <th>2</th>\n",
       "      <td>-24.342578</td>\n",
       "      <td>30.930866</td>\n",
       "      <td>2015-03-07 03:38</td>\n",
       "      <td>90916112</td>\n",
       "      <td>POINT (-24.342578456 30.930866066)</td>\n",
       "    </tr>\n",
       "    <tr>\n",
       "      <th>3</th>\n",
       "      <td>-24.854614</td>\n",
       "      <td>31.519718</td>\n",
       "      <td>2015-10-07 05:04</td>\n",
       "      <td>37959089</td>\n",
       "      <td>POINT (-24.85461393 31.519718439)</td>\n",
       "    </tr>\n",
       "    <tr>\n",
       "      <th>4</th>\n",
       "      <td>-24.921069</td>\n",
       "      <td>31.520836</td>\n",
       "      <td>2015-10-07 05:19</td>\n",
       "      <td>27793716</td>\n",
       "      <td>POINT (-24.921068894 31.520835558)</td>\n",
       "    </tr>\n",
       "    <tr>\n",
       "      <th>...</th>\n",
       "      <td>...</td>\n",
       "      <td>...</td>\n",
       "      <td>...</td>\n",
       "      <td>...</td>\n",
       "      <td>...</td>\n",
       "    </tr>\n",
       "    <tr>\n",
       "      <th>81374</th>\n",
       "      <td>-24.799541</td>\n",
       "      <td>31.354469</td>\n",
       "      <td>2015-09-05 02:23</td>\n",
       "      <td>90744213</td>\n",
       "      <td>POINT (-24.79954083 31.354468659)</td>\n",
       "    </tr>\n",
       "    <tr>\n",
       "      <th>81375</th>\n",
       "      <td>-25.467992</td>\n",
       "      <td>30.956033</td>\n",
       "      <td>2015-02-05 02:40</td>\n",
       "      <td>71109799</td>\n",
       "      <td>POINT (-25.467991667 30.956033333)</td>\n",
       "    </tr>\n",
       "    <tr>\n",
       "      <th>81376</th>\n",
       "      <td>-25.332223</td>\n",
       "      <td>30.997409</td>\n",
       "      <td>2015-08-05 02:40</td>\n",
       "      <td>54796261</td>\n",
       "      <td>POINT (-25.332223289 30.997408647)</td>\n",
       "    </tr>\n",
       "    <tr>\n",
       "      <th>81377</th>\n",
       "      <td>-25.508851</td>\n",
       "      <td>31.005536</td>\n",
       "      <td>2015-08-05 02:43</td>\n",
       "      <td>78762204</td>\n",
       "      <td>POINT (-25.508851029 31.00553607)</td>\n",
       "    </tr>\n",
       "    <tr>\n",
       "      <th>81378</th>\n",
       "      <td>-25.498840</td>\n",
       "      <td>31.007430</td>\n",
       "      <td>2015-04-05 02:44</td>\n",
       "      <td>32190273</td>\n",
       "      <td>POINT (-25.49884 31.00743)</td>\n",
       "    </tr>\n",
       "  </tbody>\n",
       "</table>\n",
       "<p>81379 rows × 5 columns</p>\n",
       "</div>"
      ],
      "text/plain": [
       "             lat        lon         timestamp    userid  \\\n",
       "0     -24.980792  31.484633  2015-07-07 03:02  66487960   \n",
       "1     -25.499225  31.508906  2015-07-07 03:18  65281761   \n",
       "2     -24.342578  30.930866  2015-03-07 03:38  90916112   \n",
       "3     -24.854614  31.519718  2015-10-07 05:04  37959089   \n",
       "4     -24.921069  31.520836  2015-10-07 05:19  27793716   \n",
       "...          ...        ...               ...       ...   \n",
       "81374 -24.799541  31.354469  2015-09-05 02:23  90744213   \n",
       "81375 -25.467992  30.956033  2015-02-05 02:40  71109799   \n",
       "81376 -25.332223  30.997409  2015-08-05 02:40  54796261   \n",
       "81377 -25.508851  31.005536  2015-08-05 02:43  78762204   \n",
       "81378 -25.498840  31.007430  2015-04-05 02:44  32190273   \n",
       "\n",
       "                                 geometry  \n",
       "0      POINT (-24.980792492 31.484633302)  \n",
       "1      POINT (-25.499224667 31.508905612)  \n",
       "2      POINT (-24.342578456 30.930866066)  \n",
       "3       POINT (-24.85461393 31.519718439)  \n",
       "4      POINT (-24.921068894 31.520835558)  \n",
       "...                                   ...  \n",
       "81374   POINT (-24.79954083 31.354468659)  \n",
       "81375  POINT (-25.467991667 30.956033333)  \n",
       "81376  POINT (-25.332223289 30.997408647)  \n",
       "81377   POINT (-25.508851029 31.00553607)  \n",
       "81378          POINT (-25.49884 31.00743)  \n",
       "\n",
       "[81379 rows x 5 columns]"
      ]
     },
     "execution_count": 41,
     "metadata": {},
     "output_type": "execute_result"
    }
   ],
   "source": [
    "data"
   ]
  },
  {
   "cell_type": "code",
   "execution_count": 46,
   "metadata": {},
   "outputs": [
    {
     "data": {
      "text/html": [
       "<div>\n",
       "<style scoped>\n",
       "    .dataframe tbody tr th:only-of-type {\n",
       "        vertical-align: middle;\n",
       "    }\n",
       "\n",
       "    .dataframe tbody tr th {\n",
       "        vertical-align: top;\n",
       "    }\n",
       "\n",
       "    .dataframe thead th {\n",
       "        text-align: right;\n",
       "    }\n",
       "</style>\n",
       "<table border=\"1\" class=\"dataframe\">\n",
       "  <thead>\n",
       "    <tr style=\"text-align: right;\">\n",
       "      <th></th>\n",
       "      <th>lat</th>\n",
       "      <th>lon</th>\n",
       "      <th>timestamp</th>\n",
       "      <th>userid</th>\n",
       "      <th>geometry</th>\n",
       "    </tr>\n",
       "  </thead>\n",
       "  <tbody>\n",
       "    <tr>\n",
       "      <th>0</th>\n",
       "      <td>-24.980792</td>\n",
       "      <td>31.484633</td>\n",
       "      <td>2015-07-07 03:02</td>\n",
       "      <td>66487960</td>\n",
       "      <td>POINT (-24.98079 31.48463)</td>\n",
       "    </tr>\n",
       "    <tr>\n",
       "      <th>1</th>\n",
       "      <td>-25.499225</td>\n",
       "      <td>31.508906</td>\n",
       "      <td>2015-07-07 03:18</td>\n",
       "      <td>65281761</td>\n",
       "      <td>POINT (-25.49922 31.50891)</td>\n",
       "    </tr>\n",
       "    <tr>\n",
       "      <th>2</th>\n",
       "      <td>-24.342578</td>\n",
       "      <td>30.930866</td>\n",
       "      <td>2015-03-07 03:38</td>\n",
       "      <td>90916112</td>\n",
       "      <td>POINT (-24.34258 30.93087)</td>\n",
       "    </tr>\n",
       "    <tr>\n",
       "      <th>3</th>\n",
       "      <td>-24.854614</td>\n",
       "      <td>31.519718</td>\n",
       "      <td>2015-10-07 05:04</td>\n",
       "      <td>37959089</td>\n",
       "      <td>POINT (-24.85461 31.51972)</td>\n",
       "    </tr>\n",
       "    <tr>\n",
       "      <th>4</th>\n",
       "      <td>-24.921069</td>\n",
       "      <td>31.520836</td>\n",
       "      <td>2015-10-07 05:19</td>\n",
       "      <td>27793716</td>\n",
       "      <td>POINT (-24.92107 31.52084)</td>\n",
       "    </tr>\n",
       "    <tr>\n",
       "      <th>...</th>\n",
       "      <td>...</td>\n",
       "      <td>...</td>\n",
       "      <td>...</td>\n",
       "      <td>...</td>\n",
       "      <td>...</td>\n",
       "    </tr>\n",
       "    <tr>\n",
       "      <th>81374</th>\n",
       "      <td>-24.799541</td>\n",
       "      <td>31.354469</td>\n",
       "      <td>2015-09-05 02:23</td>\n",
       "      <td>90744213</td>\n",
       "      <td>POINT (-24.79954 31.35447)</td>\n",
       "    </tr>\n",
       "    <tr>\n",
       "      <th>81375</th>\n",
       "      <td>-25.467992</td>\n",
       "      <td>30.956033</td>\n",
       "      <td>2015-02-05 02:40</td>\n",
       "      <td>71109799</td>\n",
       "      <td>POINT (-25.46799 30.95603)</td>\n",
       "    </tr>\n",
       "    <tr>\n",
       "      <th>81376</th>\n",
       "      <td>-25.332223</td>\n",
       "      <td>30.997409</td>\n",
       "      <td>2015-08-05 02:40</td>\n",
       "      <td>54796261</td>\n",
       "      <td>POINT (-25.33222 30.99741)</td>\n",
       "    </tr>\n",
       "    <tr>\n",
       "      <th>81377</th>\n",
       "      <td>-25.508851</td>\n",
       "      <td>31.005536</td>\n",
       "      <td>2015-08-05 02:43</td>\n",
       "      <td>78762204</td>\n",
       "      <td>POINT (-25.50885 31.00554)</td>\n",
       "    </tr>\n",
       "    <tr>\n",
       "      <th>81378</th>\n",
       "      <td>-25.498840</td>\n",
       "      <td>31.007430</td>\n",
       "      <td>2015-04-05 02:44</td>\n",
       "      <td>32190273</td>\n",
       "      <td>POINT (-25.49884 31.00743)</td>\n",
       "    </tr>\n",
       "  </tbody>\n",
       "</table>\n",
       "<p>81379 rows × 5 columns</p>\n",
       "</div>"
      ],
      "text/plain": [
       "             lat        lon         timestamp    userid  \\\n",
       "0     -24.980792  31.484633  2015-07-07 03:02  66487960   \n",
       "1     -25.499225  31.508906  2015-07-07 03:18  65281761   \n",
       "2     -24.342578  30.930866  2015-03-07 03:38  90916112   \n",
       "3     -24.854614  31.519718  2015-10-07 05:04  37959089   \n",
       "4     -24.921069  31.520836  2015-10-07 05:19  27793716   \n",
       "...          ...        ...               ...       ...   \n",
       "81374 -24.799541  31.354469  2015-09-05 02:23  90744213   \n",
       "81375 -25.467992  30.956033  2015-02-05 02:40  71109799   \n",
       "81376 -25.332223  30.997409  2015-08-05 02:40  54796261   \n",
       "81377 -25.508851  31.005536  2015-08-05 02:43  78762204   \n",
       "81378 -25.498840  31.007430  2015-04-05 02:44  32190273   \n",
       "\n",
       "                         geometry  \n",
       "0      POINT (-24.98079 31.48463)  \n",
       "1      POINT (-25.49922 31.50891)  \n",
       "2      POINT (-24.34258 30.93087)  \n",
       "3      POINT (-24.85461 31.51972)  \n",
       "4      POINT (-24.92107 31.52084)  \n",
       "...                           ...  \n",
       "81374  POINT (-24.79954 31.35447)  \n",
       "81375  POINT (-25.46799 30.95603)  \n",
       "81376  POINT (-25.33222 30.99741)  \n",
       "81377  POINT (-25.50885 31.00554)  \n",
       "81378  POINT (-25.49884 31.00743)  \n",
       "\n",
       "[81379 rows x 5 columns]"
      ]
     },
     "execution_count": 46,
     "metadata": {},
     "output_type": "execute_result"
    }
   ],
   "source": [
    "# convert dataframe into geodataframe\n",
    "# update crs system to 4326\n",
    "gdf = gpd.GeoDataFrame(data, crs=\"EPSG:4326\", geometry=data['geometry'])\n",
    "gdf"
   ]
  },
  {
   "cell_type": "code",
   "execution_count": 48,
   "metadata": {},
   "outputs": [
    {
     "data": {
      "text/plain": [
       "<AxesSubplot:>"
      ]
     },
     "execution_count": 48,
     "metadata": {},
     "output_type": "execute_result"
    },
    {
     "data": {
      "image/png": "[encoded data removed]",
      "text/plain": [
       "<Figure size 432x288 with 1 Axes>"
      ]
     },
     "metadata": {
      "needs_background": "light"
     },
     "output_type": "display_data"
    }
   ],
   "source": [
    "# save to shapefile and plot\n",
    "gdf.to_file('exercise_points',driver='ESRI Shapefile')\n",
    "gdf.plot()"
   ]
  },
  {
   "cell_type": "markdown",
   "metadata": {},
   "source": [
    "## Part 3"
   ]
  },
  {
   "cell_type": "code",
   "execution_count": 49,
   "metadata": {},
   "outputs": [],
   "source": [
    "t = '''\n",
    "Reproject the data from WGS84 projection into EPSG:32735 -projection which stands for UTM Zone 35S (UTM zone for South Africa) to transform the data into metric system.\n",
    "Group the data by userid\n",
    "Create an empty GeoDataFrame called movements\n",
    "For each user:\n",
    "sort the rows by timestamp\n",
    "create LineString objects based on the points\n",
    "add the geometry and the userid into the GeoDataFrame you created in the last step\n",
    "Determine the CRS of the movements GeoDataFrame to EPSG:32735 (epsg code: 32735)\n",
    "Calculate the lenghts of the lines into a new column called distance in movements GeoDataFrame.\n",
    "Save the movements of into a Shapefile called Some_movements.shp\n",
    "Questions\n",
    "Write your answers below the questions. You should also print in your code the answers to the questions.\n",
    "\n",
    "What was the shortest distance travelled in meters?\n",
    "What was the mean distance travelled in meters?\n",
    "What was the maximum distance travelled in meters?\n",
    "'''"
   ]
  },
  {
   "cell_type": "code",
   "execution_count": 76,
   "metadata": {},
   "outputs": [],
   "source": [
    "gdf.head()\n",
    "user = 65281761"
   ]
  },
  {
   "cell_type": "code",
   "execution_count": 95,
   "metadata": {},
   "outputs": [
    {
     "data": {
      "text/plain": [
       "<pandas.core.groupby.generic.DataFrameGroupBy object at 0x000001CC78452F10>"
      ]
     },
     "execution_count": 95,
     "metadata": {},
     "output_type": "execute_result"
    }
   ],
   "source": [
    "# Reproject the data from WGS84 projection into EPSG:32735 -projection which stands for UTM Zone 35S (UTM zone for South Africa) to transform the data into metric system.\n",
    "# group data by userid\n",
    "gdf_metric = gdf.to_crs(epsg=32735)\n",
    "gdf_metric = gdf_metric.groupby('userid')\n",
    "gdf_metric"
   ]
  },
  {
   "cell_type": "code",
   "execution_count": 57,
   "metadata": {},
   "outputs": [],
   "source": [
    "# create empty gdf called movements\n",
    "movements = gpd.GeoDataFrame()"
   ]
  },
  {
   "cell_type": "code",
   "execution_count": 94,
   "metadata": {},
   "outputs": [
    {
     "data": {
      "image/svg+xml": [
       "<svg xmlns=\"http://www.w3.org/2000/svg\" xmlns:xlink=\"http://www.w3.org/1999/xlink\" width=\"300\" height=\"300\" viewBox=\"-4752757.963687648 14999319.560049685 53564.505116158165 60291.12925181538\" preserveAspectRatio=\"xMinYMin meet\"><g transform=\"matrix(1,0,0,-1,0,30058930.249351185)\"><polyline fill=\"none\" stroke=\"#66cc99\" stroke-width=\"401.9408616787692\" points=\"-4746165.525679811,15001552.564836789 -4748939.257510135,15014098.836918738 -4719879.314812739,15025880.441587672 -4703335.009366536,15057377.684514396 -4750524.958900544,15011016.475110885 -4701426.463358594,15051442.89407308 -4719881.175699266,15025889.90078401\" opacity=\"0.8\" /></g></svg>"
      ],
      "text/plain": [
       "<shapely.geometry.linestring.LineString at 0x1cc76c8c7f0>"
      ]
     },
     "execution_count": 94,
     "metadata": {},
     "output_type": "execute_result"
    }
   ],
   "source": [
    "#For each user:\n",
    "#sort the rows by timestamp\n",
    "#create LineString objects based on the points\n",
    "from shapely.geometry import LineString\n",
    "\n",
    "#test on one group\n",
    "group1 = gdf_metric.get_group(user)\n",
    "group1 = group1.sort_values(by='timestamp',ignore_index=True)\n",
    "\n",
    "#make linestring\n",
    "    \n",
    "line= LineString(point for point in group1['geometry'])\n",
    "line"
   ]
  },
  {
   "cell_type": "code",
   "execution_count": 108,
   "metadata": {},
   "outputs": [],
   "source": [
    "users = gdf['userid'].drop_duplicates()"
   ]
  },
  {
   "cell_type": "code",
   "execution_count": 117,
   "metadata": {},
   "outputs": [],
   "source": [
    "#add the geometry and the userid into the GeoDataFrame you created in the last step\n",
    "for i,userid in enumerate(users):\n",
    "    group = gdf_metric.get_group(userid)\n",
    "    group = group.sort_values(by='timestamp',ignore_index=True)\n",
    "    \n",
    "    if len(group) > 1:\n",
    "        line = LineString(point for point in group['geometry'])\n",
    "    else:\n",
    "        continue\n",
    "    \n",
    "    movements.loc[i,'userid'] = userid\n",
    "    movements.loc[i,'geometry'] = line"
   ]
  },
  {
   "cell_type": "code",
   "execution_count": 118,
   "metadata": {},
   "outputs": [
    {
     "data": {
      "text/html": [
       "<div>\n",
       "<style scoped>\n",
       "    .dataframe tbody tr th:only-of-type {\n",
       "        vertical-align: middle;\n",
       "    }\n",
       "\n",
       "    .dataframe tbody tr th {\n",
       "        vertical-align: top;\n",
       "    }\n",
       "\n",
       "    .dataframe thead th {\n",
       "        text-align: right;\n",
       "    }\n",
       "</style>\n",
       "<table border=\"1\" class=\"dataframe\">\n",
       "  <thead>\n",
       "    <tr style=\"text-align: right;\">\n",
       "      <th></th>\n",
       "      <th>userid</th>\n",
       "      <th>geometry</th>\n",
       "    </tr>\n",
       "  </thead>\n",
       "  <tbody>\n",
       "    <tr>\n",
       "      <th>6</th>\n",
       "      <td>52431146.0</td>\n",
       "      <td>LINESTRING (-4761173.367 14931591.745, -479087...</td>\n",
       "    </tr>\n",
       "    <tr>\n",
       "      <th>1</th>\n",
       "      <td>65281761.0</td>\n",
       "      <td>LINESTRING (-4746165.526 15001552.565, -474893...</td>\n",
       "    </tr>\n",
       "    <tr>\n",
       "      <th>2</th>\n",
       "      <td>90916112.0</td>\n",
       "      <td>LINESTRING (-4672729.591 14859391.194, -467272...</td>\n",
       "    </tr>\n",
       "    <tr>\n",
       "      <th>3</th>\n",
       "      <td>37959089.0</td>\n",
       "      <td>LINESTRING (-4686240.069 14974041.654, -468639...</td>\n",
       "    </tr>\n",
       "    <tr>\n",
       "      <th>4</th>\n",
       "      <td>27793716.0</td>\n",
       "      <td>LINESTRING (-4681879.825 14949377.769, -468971...</td>\n",
       "    </tr>\n",
       "    <tr>\n",
       "      <th>...</th>\n",
       "      <td>...</td>\n",
       "      <td>...</td>\n",
       "    </tr>\n",
       "    <tr>\n",
       "      <th>14921</th>\n",
       "      <td>40992775.0</td>\n",
       "      <td>LINESTRING (-4671453.762 14863353.144, -467145...</td>\n",
       "    </tr>\n",
       "    <tr>\n",
       "      <th>14928</th>\n",
       "      <td>87980026.0</td>\n",
       "      <td>LINESTRING (-4686477.829 14973965.357, -468615...</td>\n",
       "    </tr>\n",
       "    <tr>\n",
       "      <th>14934</th>\n",
       "      <td>99778679.0</td>\n",
       "      <td>LINESTRING (-4661400.304 14857095.113, -466073...</td>\n",
       "    </tr>\n",
       "    <tr>\n",
       "      <th>14949</th>\n",
       "      <td>65850367.0</td>\n",
       "      <td>LINESTRING (-4721003.396 15034710.017, -471291...</td>\n",
       "    </tr>\n",
       "    <tr>\n",
       "      <th>14971</th>\n",
       "      <td>57991926.0</td>\n",
       "      <td>LINESTRING (-4745277.520 14890626.224, -473118...</td>\n",
       "    </tr>\n",
       "  </tbody>\n",
       "</table>\n",
       "<p>9026 rows × 2 columns</p>\n",
       "</div>"
      ],
      "text/plain": [
       "           userid                                           geometry\n",
       "6      52431146.0  LINESTRING (-4761173.367 14931591.745, -479087...\n",
       "1      65281761.0  LINESTRING (-4746165.526 15001552.565, -474893...\n",
       "2      90916112.0  LINESTRING (-4672729.591 14859391.194, -467272...\n",
       "3      37959089.0  LINESTRING (-4686240.069 14974041.654, -468639...\n",
       "4      27793716.0  LINESTRING (-4681879.825 14949377.769, -468971...\n",
       "...           ...                                                ...\n",
       "14921  40992775.0  LINESTRING (-4671453.762 14863353.144, -467145...\n",
       "14928  87980026.0  LINESTRING (-4686477.829 14973965.357, -468615...\n",
       "14934  99778679.0  LINESTRING (-4661400.304 14857095.113, -466073...\n",
       "14949  65850367.0  LINESTRING (-4721003.396 15034710.017, -471291...\n",
       "14971  57991926.0  LINESTRING (-4745277.520 14890626.224, -473118...\n",
       "\n",
       "[9026 rows x 2 columns]"
      ]
     },
     "execution_count": 118,
     "metadata": {},
     "output_type": "execute_result"
    }
   ],
   "source": [
    "movements"
   ]
  },
  {
   "cell_type": "code",
   "execution_count": 126,
   "metadata": {},
   "outputs": [],
   "source": [
    "#Determine the CRS of the movements GeoDataFrame to EPSG:32735 (epsg code: 32735)\n",
    "#Calculate the lenghts of the lines into a new column called distance in movements GeoDataFrame.\n",
    "#Save the movements of into a Shapefile called Some_movements.shp\n",
    "movements = movements.to_crs(epsg = 32735)\n",
    "\n",
    "movements['distance'] = movements['geometry'].length"
   ]
  },
  {
   "cell_type": "code",
   "execution_count": 127,
   "metadata": {},
   "outputs": [
    {
     "data": {
      "text/html": [
       "<div>\n",
       "<style scoped>\n",
       "    .dataframe tbody tr th:only-of-type {\n",
       "        vertical-align: middle;\n",
       "    }\n",
       "\n",
       "    .dataframe tbody tr th {\n",
       "        vertical-align: top;\n",
       "    }\n",
       "\n",
       "    .dataframe thead th {\n",
       "        text-align: right;\n",
       "    }\n",
       "</style>\n",
       "<table border=\"1\" class=\"dataframe\">\n",
       "  <thead>\n",
       "    <tr style=\"text-align: right;\">\n",
       "      <th></th>\n",
       "      <th>userid</th>\n",
       "      <th>geometry</th>\n",
       "      <th>distance</th>\n",
       "    </tr>\n",
       "  </thead>\n",
       "  <tbody>\n",
       "    <tr>\n",
       "      <th>6</th>\n",
       "      <td>52431146.0</td>\n",
       "      <td>LINESTRING (-4761173.367 14931591.745, -479087...</td>\n",
       "      <td>5.414798e+05</td>\n",
       "    </tr>\n",
       "    <tr>\n",
       "      <th>1</th>\n",
       "      <td>65281761.0</td>\n",
       "      <td>LINESTRING (-4746165.526 15001552.565, -474893...</td>\n",
       "      <td>2.410581e+05</td>\n",
       "    </tr>\n",
       "    <tr>\n",
       "      <th>2</th>\n",
       "      <td>90916112.0</td>\n",
       "      <td>LINESTRING (-4672729.591 14859391.194, -467272...</td>\n",
       "      <td>6.274886e+03</td>\n",
       "    </tr>\n",
       "    <tr>\n",
       "      <th>3</th>\n",
       "      <td>37959089.0</td>\n",
       "      <td>LINESTRING (-4686240.069 14974041.654, -468639...</td>\n",
       "      <td>1.030804e+06</td>\n",
       "    </tr>\n",
       "    <tr>\n",
       "      <th>4</th>\n",
       "      <td>27793716.0</td>\n",
       "      <td>LINESTRING (-4681879.825 14949377.769, -468971...</td>\n",
       "      <td>2.896133e+04</td>\n",
       "    </tr>\n",
       "    <tr>\n",
       "      <th>...</th>\n",
       "      <td>...</td>\n",
       "      <td>...</td>\n",
       "      <td>...</td>\n",
       "    </tr>\n",
       "    <tr>\n",
       "      <th>14921</th>\n",
       "      <td>40992775.0</td>\n",
       "      <td>LINESTRING (-4671453.762 14863353.144, -467145...</td>\n",
       "      <td>0.000000e+00</td>\n",
       "    </tr>\n",
       "    <tr>\n",
       "      <th>14928</th>\n",
       "      <td>87980026.0</td>\n",
       "      <td>LINESTRING (-4686477.829 14973965.357, -468615...</td>\n",
       "      <td>1.807680e+03</td>\n",
       "    </tr>\n",
       "    <tr>\n",
       "      <th>14934</th>\n",
       "      <td>99778679.0</td>\n",
       "      <td>LINESTRING (-4661400.304 14857095.113, -466073...</td>\n",
       "      <td>1.172731e+04</td>\n",
       "    </tr>\n",
       "    <tr>\n",
       "      <th>14949</th>\n",
       "      <td>65850367.0</td>\n",
       "      <td>LINESTRING (-4721003.396 15034710.017, -471291...</td>\n",
       "      <td>8.254803e+03</td>\n",
       "    </tr>\n",
       "    <tr>\n",
       "      <th>14971</th>\n",
       "      <td>57991926.0</td>\n",
       "      <td>LINESTRING (-4745277.520 14890626.224, -473118...</td>\n",
       "      <td>4.389728e+04</td>\n",
       "    </tr>\n",
       "  </tbody>\n",
       "</table>\n",
       "<p>9026 rows × 3 columns</p>\n",
       "</div>"
      ],
      "text/plain": [
       "           userid                                           geometry  \\\n",
       "6      52431146.0  LINESTRING (-4761173.367 14931591.745, -479087...   \n",
       "1      65281761.0  LINESTRING (-4746165.526 15001552.565, -474893...   \n",
       "2      90916112.0  LINESTRING (-4672729.591 14859391.194, -467272...   \n",
       "3      37959089.0  LINESTRING (-4686240.069 14974041.654, -468639...   \n",
       "4      27793716.0  LINESTRING (-4681879.825 14949377.769, -468971...   \n",
       "...           ...                                                ...   \n",
       "14921  40992775.0  LINESTRING (-4671453.762 14863353.144, -467145...   \n",
       "14928  87980026.0  LINESTRING (-4686477.829 14973965.357, -468615...   \n",
       "14934  99778679.0  LINESTRING (-4661400.304 14857095.113, -466073...   \n",
       "14949  65850367.0  LINESTRING (-4721003.396 15034710.017, -471291...   \n",
       "14971  57991926.0  LINESTRING (-4745277.520 14890626.224, -473118...   \n",
       "\n",
       "           distance  \n",
       "6      5.414798e+05  \n",
       "1      2.410581e+05  \n",
       "2      6.274886e+03  \n",
       "3      1.030804e+06  \n",
       "4      2.896133e+04  \n",
       "...             ...  \n",
       "14921  0.000000e+00  \n",
       "14928  1.807680e+03  \n",
       "14934  1.172731e+04  \n",
       "14949  8.254803e+03  \n",
       "14971  4.389728e+04  \n",
       "\n",
       "[9026 rows x 3 columns]"
      ]
     },
     "execution_count": 127,
     "metadata": {},
     "output_type": "execute_result"
    }
   ],
   "source": [
    "movements"
   ]
  },
  {
   "cell_type": "code",
   "execution_count": 154,
   "metadata": {},
   "outputs": [
    {
     "data": {
      "text/plain": [
       "Text(0, 0.5, 'Meters (in millions)')"
      ]
     },
     "execution_count": 154,
     "metadata": {},
     "output_type": "execute_result"
    },
    {
     "data": {
      "image/png": "[encoded data removed]",
      "text/plain": [
       "<Figure size 432x288 with 1 Axes>"
      ]
     },
     "metadata": {
      "needs_background": "light"
     },
     "output_type": "display_data"
    }
   ],
   "source": [
    "#What was the shortest distance travelled in meters?\n",
    "#What was the mean distance travelled in meters?\n",
    "#What was the maximum distance travelled in meters?\n",
    "import matplotlib.pyplot as plt\n",
    "\n",
    "movements_low = movements.sort_values(by='distance',ignore_index=True)\n",
    "movements_low['distance'].plot()\n",
    "plt.title('Distance travelled (least to most)')\n",
    "plt.xlabel('User')\n",
    "plt.ylabel('Meters (in millions)')"
   ]
  },
  {
   "cell_type": "code",
   "execution_count": 178,
   "metadata": {},
   "outputs": [
    {
     "data": {
      "text/plain": [
       "<AxesSubplot:>"
      ]
     },
     "execution_count": 178,
     "metadata": {},
     "output_type": "execute_result"
    },
    {
     "data": {
      "image/png": "[encoded data removed]",
      "text/plain": [
       "<Figure size 432x288 with 1 Axes>"
      ]
     },
     "metadata": {
      "needs_background": "light"
     },
     "output_type": "display_data"
    }
   ],
   "source": [
    "movements_noZ = movements_low[movements_low['distance'] > 0]\n",
    "\n",
    "movements_noZ[0:1].plot()"
   ]
  },
  {
   "cell_type": "code",
   "execution_count": 174,
   "metadata": {},
   "outputs": [],
   "source": [
    "import numpy as np\n",
    "\n",
    "low = float(movements_low[0:1]['distance'])\n",
    "low = round(low,3)\n",
    "\n",
    "noZ = float(movements_noZ[0:1]['distance'])\n",
    "noZ = round(noZ,5)\n",
    "\n",
    "movements_high = movements.sort_values(by='distance',ignore_index=True,ascending=False)\n",
    "high = float(movements_high[0:1]['distance'])\n",
    "high = round(high,3)\n",
    "\n",
    "avg = np.mean(movements['distance'])\n",
    "avg = round(avg,3)"
   ]
  },
  {
   "cell_type": "markdown",
   "metadata": {},
   "source": [
    "## Questions:"
   ]
  },
  {
   "cell_type": "code",
   "execution_count": 175,
   "metadata": {},
   "outputs": [
    {
     "name": "stdout",
     "output_type": "stream",
     "text": [
      "Shortest Distance travelled (in meters):  0.0\n",
      "Shortest non-zero Distance travelled (in meters):  0.00013\n",
      "Mean Distance travelled (in meters):  138871.142\n",
      "Maximum Distance travelled (in meters):  8457917.497\n"
     ]
    }
   ],
   "source": [
    "print('Shortest Distance travelled (in meters): ',low)\n",
    "print('Shortest non-zero Distance travelled (in meters): ',noZ)\n",
    "print('Mean Distance travelled (in meters): ',avg)\n",
    "print('Maximum Distance travelled (in meters): ',high)"
   ]
  }
 ],
 "metadata": {
  "kernelspec": {
   "display_name": "transit-env",
   "language": "python",
   "name": "transit-env"
  },
  "language_info": {
   "codemirror_mode": {
    "name": "ipython",
    "version": 3
   },
   "file_extension": ".py",
   "mimetype": "text/x-python",
   "name": "python",
   "nbconvert_exporter": "python",
   "pygments_lexer": "ipython3",
   "version": "3.9.1"
  }
 },
 "nbformat": 4,
 "nbformat_minor": 4
}
